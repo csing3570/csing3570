{
 "cells": [
  {
   "cell_type": "code",
   "execution_count": 3,
   "id": "d6424667-3435-46f4-947f-7ea23fdd75bb",
   "metadata": {},
   "outputs": [
    {
     "name": "stdout",
     "output_type": "stream",
     "text": [
      "Requirement already satisfied: requests in /opt/conda/lib/python3.10/site-packages (2.28.1)\n",
      "Requirement already satisfied: idna<4,>=2.5 in /opt/conda/lib/python3.10/site-packages (from requests) (3.4)\n",
      "Requirement already satisfied: certifi>=2017.4.17 in /opt/conda/lib/python3.10/site-packages (from requests) (2022.12.7)\n",
      "Requirement already satisfied: charset-normalizer<3,>=2 in /opt/conda/lib/python3.10/site-packages (from requests) (2.1.1)\n",
      "Requirement already satisfied: urllib3<1.27,>=1.21.1 in /opt/conda/lib/python3.10/site-packages (from requests) (1.26.13)\n",
      "Note: you may need to restart the kernel to use updated packages.\n"
     ]
    }
   ],
   "source": [
    "pip install requests"
   ]
  },
  {
   "cell_type": "code",
   "execution_count": 5,
   "id": "609cb73e-97f2-474d-a306-c5e5f96b5cb9",
   "metadata": {},
   "outputs": [],
   "source": [
    "import requests\n",
    "from bs4 import BeautifulSoup\n",
    "from urllib.request import urlopen as uReq\n",
    "import os"
   ]
  },
  {
   "cell_type": "code",
   "execution_count": 6,
   "id": "3009a076-3d54-4134-b825-c4635b4707f0",
   "metadata": {},
   "outputs": [],
   "source": [
    "save_dir = \"images/\"\n",
    "if not os.path.exists(save_dir):\n",
    "    os.makedirs(save_dir)"
   ]
  },
  {
   "cell_type": "code",
   "execution_count": 18,
   "id": "2debcdd6-4eef-4492-8bb0-c4addcef403c",
   "metadata": {},
   "outputs": [],
   "source": [
    "query = \"flowers&uds\"\n",
    "responce = requests.get(f\"https://www.google.com/search?sca_esv=e8f1cfb632bd06ad&q={query}=ADvngMh2Gsd1U95AqRLv_MuIJ9BioOHgToaKveBVH1HkUKKowzQoJ9lXpM2ddBnUfrdB49J4HktU6DtXw_VBtv7lDL4e7AKu7n07ZpU7Gr4Fz5Cvp8TJ8oGv5MBAmXl_Wk6_cNaN1GrMdA70pdShGqdj1FqJW9_MhS_GEUi-hasz_4cVgQSd3xfKngyDIYEsxlDaqgB6sRzm1jh1Xfkpzuv-jvpTiMS1Gs5Z-prP1tem4IkHgGu0ruYzvQtMNT1qAnqumo5O5pL1hHrh4CnrxEm4Boddmfgp2BNmItGoxFBU9irFv_ylw9s&udm=2&prmd=isvnmbtz&sa=X&ved=2ahUKEwiQ4Lif0PWFAxXvVPUHHUI7D_IQtKgLegQIDBAB&biw=1488&bih=708&dpr=1.25\")\n",
    "#responce"
   ]
  },
  {
   "cell_type": "code",
   "execution_count": 20,
   "id": "4a04836d-c7d7-4638-9f9c-ec2c591f37c5",
   "metadata": {},
   "outputs": [],
   "source": [
    "soup = BeautifulSoup(responce.content,'html.parser')\n",
    "image_tags = soup.find_all(\"img\")\n",
    "del image_tags[0]"
   ]
  },
  {
   "cell_type": "code",
   "execution_count": 31,
   "id": "e2ce97aa-e0b7-4613-b02e-c9bd2f674b30",
   "metadata": {},
   "outputs": [],
   "source": [
    "for i in image_tags:\n",
    "    image_url = i['src']\n",
    "    image_data = requests.get(image_url).content\n",
    "    with open(os.path.join(save_dir,f\"{query}_{image_tags.index(i)}\"),\"wb\") as f:\n",
    "        f.write(image_data)"
   ]
  },
  {
   "cell_type": "code",
   "execution_count": null,
   "id": "d0250f06-0f84-4598-a4ce-b7ce64b61c37",
   "metadata": {},
   "outputs": [],
   "source": []
  }
 ],
 "metadata": {
  "kernelspec": {
   "display_name": "Python 3 (ipykernel)",
   "language": "python",
   "name": "python3"
  },
  "language_info": {
   "codemirror_mode": {
    "name": "ipython",
    "version": 3
   },
   "file_extension": ".py",
   "mimetype": "text/x-python",
   "name": "python",
   "nbconvert_exporter": "python",
   "pygments_lexer": "ipython3",
   "version": "3.10.8"
  }
 },
 "nbformat": 4,
 "nbformat_minor": 5
}
